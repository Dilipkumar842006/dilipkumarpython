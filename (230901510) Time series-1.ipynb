{
 "cells": [
  {
   "cell_type": "code",
   "execution_count": 2,
   "id": "1511d677",
   "metadata": {},
   "outputs": [
    {
     "name": "stdout",
     "output_type": "stream",
     "text": [
      "today=now function: 2025-04-11 10:35:23.202055\n"
     ]
    }
   ],
   "source": [
    "import datetime\n",
    "a=datetime.datetime.now()\n",
    "print(\"today=now function:\",a)"
   ]
  },
  {
   "cell_type": "code",
   "execution_count": 6,
   "id": "3bc5393e",
   "metadata": {},
   "outputs": [
    {
     "name": "stdout",
     "output_type": "stream",
     "text": [
      "\n",
      "today : 2025-04-11 10:37:36.117416\n"
     ]
    }
   ],
   "source": [
    "today=datetime.datetime.today()\n",
    "print('\\ntoday :',today)"
   ]
  },
  {
   "cell_type": "code",
   "execution_count": 15,
   "id": "3cfc872c",
   "metadata": {},
   "outputs": [
    {
     "name": "stdout",
     "output_type": "stream",
     "text": [
      "\n",
      "tomrrow 2025-04-14 10:37:36.117416\n"
     ]
    }
   ],
   "source": [
    "tomorrow=today+datetime.timedelta(days=3)\n",
    "print(\"\\ntomrrow\",tomorrow)"
   ]
  },
  {
   "cell_type": "code",
   "execution_count": 9,
   "id": "35035dab",
   "metadata": {},
   "outputs": [
    {
     "name": "stdout",
     "output_type": "stream",
     "text": [
      "\n",
      "yesterday 2025-04-08 10:37:36.117416\n"
     ]
    }
   ],
   "source": [
    "yesterday=today-datetime.timedelta(days=3)\n",
    "print(\"\\nyesterday\",yesterday)"
   ]
  },
  {
   "cell_type": "code",
   "execution_count": 14,
   "id": "608e6880",
   "metadata": {},
   "outputs": [
    {
     "name": "stdout",
     "output_type": "stream",
     "text": [
      "dateformat[2020,6,8,23,10,25,404040:] 2020-06-08 23:10:25.404040\n"
     ]
    }
   ],
   "source": [
    "a=datetime.datetime.now()\n",
    "b=datetime.datetime(2020,6,8,23,10,25,404040)\n",
    "print(\"dateformat[2020,6,8,23,10,25,404040:]\",b)"
   ]
  },
  {
   "cell_type": "code",
   "execution_count": 16,
   "id": "114f69b1",
   "metadata": {},
   "outputs": [
    {
     "name": "stdout",
     "output_type": "stream",
     "text": [
      "\n",
      "Replace date 2024-12-31 2024-12-15\n"
     ]
    }
   ],
   "source": [
    "from datetime import date\n",
    "d=date(2024,12,31)\n",
    "print(\"\\nReplace date\",d,d.replace(day=15))"
   ]
  },
  {
   "cell_type": "code",
   "execution_count": 18,
   "id": "1b622078",
   "metadata": {},
   "outputs": [
    {
     "name": "stdout",
     "output_type": "stream",
     "text": [
      "\n",
      "Today: 2025-04-11\n",
      "\n",
      "Current year: 2025\n",
      "\n",
      "Current month: 4\n",
      "\n",
      "Current day: 11\n"
     ]
    }
   ],
   "source": [
    "today=date.today()\n",
    "print(\"\\nToday:\",today)\n",
    "print(\"\\nCurrent year:\",today.year)\n",
    "print(\"\\nCurrent month:\",today.month)\n",
    "print(\"\\nCurrent day:\",today.day)"
   ]
  },
  {
   "cell_type": "code",
   "execution_count": null,
   "id": "1b6c7907",
   "metadata": {},
   "outputs": [],
   "source": []
  }
 ],
 "metadata": {
  "kernelspec": {
   "display_name": "Python 3 (ipykernel)",
   "language": "python",
   "name": "python3"
  },
  "language_info": {
   "codemirror_mode": {
    "name": "ipython",
    "version": 3
   },
   "file_extension": ".py",
   "mimetype": "text/x-python",
   "name": "python",
   "nbconvert_exporter": "python",
   "pygments_lexer": "ipython3",
   "version": "3.11.5"
  }
 },
 "nbformat": 4,
 "nbformat_minor": 5
}
