{
  "cells": [
    {
      "cell_type": "code",
      "execution_count": 1,
      "id": "ba175478",
      "metadata": {
        "colab": {
          "base_uri": "https://localhost:8080/"
        },
        "id": "ba175478",
        "outputId": "b7a89e02-9898-4d18-d72a-b0393b702989"
      },
      "outputs": [
        {
          "output_type": "stream",
          "name": "stdout",
          "text": [
            "[[0.66688302 0.50407462 0.15922314 0.89390196]\n",
            " [0.90807249 0.90744636 0.21421133 0.01569434]\n",
            " [0.50755121 0.34219083 0.67153792 0.5414469 ]]\n"
          ]
        }
      ],
      "source": [
        "# 3x4 array random values\n",
        "import numpy as np\n",
        "a=np.random.random((3,4))\n",
        "print(a)"
      ]
    },
    {
      "cell_type": "code",
      "execution_count": null,
      "id": "820b46ae",
      "metadata": {
        "id": "820b46ae",
        "outputId": "8f3e1d46-1321-4c58-d42f-55cdb85c8d8c"
      },
      "outputs": [
        {
          "name": "stdout",
          "output_type": "stream",
          "text": [
            "[[0. 0. 0. 0.]\n",
            " [0. 0. 0. 0.]\n",
            " [0. 0. 0. 0.]]\n"
          ]
        }
      ],
      "source": [
        "#making all zeros\n",
        "import numpy as np\n",
        "a=np.zeros((3,4))\n",
        "print(a)"
      ]
    },
    {
      "cell_type": "code",
      "execution_count": null,
      "id": "8a15bb5f",
      "metadata": {
        "id": "8a15bb5f",
        "outputId": "88645e08-536a-4458-925d-9ddfe8bfba66"
      },
      "outputs": [
        {
          "name": "stdout",
          "output_type": "stream",
          "text": [
            "[ 5  7  9 11 13 15 17 19 21 23 25 27 29]\n"
          ]
        }
      ],
      "source": [
        "#arranging\n",
        "import numpy as np\n",
        "a=np.arange(5,31,2)\n",
        "print(a)"
      ]
    },
    {
      "cell_type": "code",
      "execution_count": null,
      "id": "9bf2d406",
      "metadata": {
        "id": "9bf2d406",
        "outputId": "5913bcb1-48ba-4f63-eb4d-472bdf6addce"
      },
      "outputs": [
        {
          "name": "stdout",
          "output_type": "stream",
          "text": [
            "Dimensions: 2\n",
            "\n",
            "Shape: (2, 3)\n",
            "\n",
            "Datatype: int64\n"
          ]
        }
      ],
      "source": [
        "#dimensions:shape:datatype\n",
        "import numpy as np\n",
        "a=np.array([[1,2,3],[4,5,6]])\n",
        "print(\"Dimensions:\",a.ndim)\n",
        "print(\"\\nShape:\",a.shape)\n",
        "print(\"\\nDatatype:\",a.dtype)"
      ]
    },
    {
      "cell_type": "code",
      "execution_count": null,
      "id": "b70099b3",
      "metadata": {
        "id": "b70099b3",
        "outputId": "f610fa66-dc86-4c67-e09a-f0b3fc3534b2"
      },
      "outputs": [
        {
          "name": "stdout",
          "output_type": "stream",
          "text": [
            "[1 2 3 4 5 6 7 8 9]\n"
          ]
        }
      ],
      "source": [
        "#flatten\n",
        "import numpy as np\n",
        "a=np.array([[1,2,3],[4,5,6],[7,8,9]])\n",
        "print(a.flatten())"
      ]
    }
  ],
  "metadata": {
    "kernelspec": {
      "display_name": "Python 3 (ipykernel)",
      "language": "python",
      "name": "python3"
    },
    "language_info": {
      "codemirror_mode": {
        "name": "ipython",
        "version": 3
      },
      "file_extension": ".py",
      "mimetype": "text/x-python",
      "name": "python",
      "nbconvert_exporter": "python",
      "pygments_lexer": "ipython3",
      "version": "3.11.5"
    },
    "colab": {
      "provenance": []
    }
  },
  "nbformat": 4,
  "nbformat_minor": 5
}