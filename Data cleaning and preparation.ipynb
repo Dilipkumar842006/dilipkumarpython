{
 "cells": [
  {
   "cell_type": "code",
   "execution_count": 7,
   "id": "3ead4e03",
   "metadata": {},
   "outputs": [
    {
     "name": "stdout",
     "output_type": "stream",
     "text": [
      "Original dataframe with NaN\n",
      "         one       two     three\n",
      "a -2.193676  1.062559  0.254877\n",
      "b -2.528397  0.505175  0.032882\n",
      "c       NaN       NaN       NaN\n",
      "d -0.692280 -1.248207  0.765436\n",
      "e       NaN       NaN       NaN\n",
      "f  0.934609  2.049817 -2.004826\n",
      "/n\n",
      "Drooped Dataframe\n",
      "         one       two     three\n",
      "a -2.193676  1.062559  0.254877\n",
      "b -2.528397  0.505175  0.032882\n",
      "d -0.692280 -1.248207  0.765436\n",
      "f  0.934609  2.049817 -2.004826\n",
      "\n",
      "\n"
     ]
    }
   ],
   "source": [
    "import pandas as pd\n",
    "import numpy as np\n",
    "df=pd.DataFrame(np.random.randn(4,3),index=[\"a\",\"b\",\"d\",\"f\"],columns=[\"one\",\"two\",\"three\"])\n",
    "df=df.reindex([\"a\",\"b\",\"c\",\"d\",\"e\",\"f\"])\n",
    "print(\"Original dataframe with NaN\\n\",df)\n",
    "print(\"/n\")\n",
    "print(\"Drooped Dataframe\\n\",df.dropna())\n",
    "print(\"\\n\")"
   ]
  },
  {
   "cell_type": "code",
   "execution_count": 12,
   "id": "551d3004",
   "metadata": {},
   "outputs": [
    {
     "name": "stdout",
     "output_type": "stream",
     "text": [
      "Original dataframe with NaN\n",
      "         one       two     three\n",
      "a -0.610356  0.094527  1.381760\n",
      "b -0.233362 -0.198290 -0.437971\n",
      "c       NaN       NaN       NaN\n",
      "d -0.380974  0.693222 -0.202444\n",
      "e       NaN       NaN       NaN\n",
      "f  0.746120  0.759807  0.045885\n",
      "/n\n",
      "NaN replaced with 9:\n",
      "         one       two     three\n",
      "a -0.610356  0.094527  1.381760\n",
      "b -0.233362 -0.198290 -0.437971\n",
      "c  9.000000  9.000000  9.000000\n",
      "d -0.380974  0.693222 -0.202444\n",
      "e  9.000000  9.000000  9.000000\n",
      "f  0.746120  0.759807  0.045885\n"
     ]
    }
   ],
   "source": [
    "df=pd.DataFrame(np.random.randn(4,3),index=[\"a\",\"b\",\"d\",\"f\"],columns=[\"one\",\"two\",\"three\"])\n",
    "df=df.reindex([\"a\",\"b\",\"c\",\"d\",\"e\",\"f\"])\n",
    "print(\"Original dataframe with NaN\\n\",df)\n",
    "print(\"/n\")\n",
    "print(\"NaN replaced with 9:\\n\",df.fillna(9))"
   ]
  },
  {
   "cell_type": "code",
   "execution_count": 17,
   "id": "9ce18b1e",
   "metadata": {},
   "outputs": [
    {
     "name": "stdout",
     "output_type": "stream",
     "text": [
      "Original dataframe with NaN\n",
      "         one       two     three\n",
      "a -0.814755  0.430857 -0.199275\n",
      "b -0.697171  0.873533 -0.080527\n",
      "c       NaN       NaN       NaN\n",
      "d  1.761691 -0.516073 -0.754128\n",
      "e       NaN       NaN       NaN\n",
      "f -0.138057  0.244778 -1.291027\n",
      "\n",
      " NaN with true fill:\n",
      "\n",
      "/n\n",
      "a    False\n",
      "b    False\n",
      "c     True\n",
      "d    False\n",
      "e     True\n",
      "f    False\n",
      "Name: one, dtype: bool\n"
     ]
    }
   ],
   "source": [
    "df=pd.DataFrame(np.random.randn(4,3),index=[\"a\",\"b\",\"d\",\"f\"],columns=[\"one\",\"two\",\"three\"])\n",
    "df=df.reindex([\"a\",\"b\",\"c\",\"d\",\"e\",\"f\"])\n",
    "print(\"Original dataframe with NaN\\n\",df)\n",
    "print(\"\\n NaN with true fill:\\n\")\n",
    "print(\"/n\")\n",
    "print(df[\"one\"].isnull())"
   ]
  },
  {
   "cell_type": "code",
   "execution_count": 19,
   "id": "6b49dfe6",
   "metadata": {},
   "outputs": [
    {
     "name": "stdout",
     "output_type": "stream",
     "text": [
      "Original dataframe with NaN\n",
      "         one       two     three\n",
      "a -0.140772  0.149297  0.828356\n",
      "b  1.194370  0.230615  0.618077\n",
      "c       NaN       NaN       NaN\n",
      "d -0.333687  0.267886  0.742074\n",
      "e       NaN       NaN       NaN\n",
      "f  0.872859  0.271781 -1.562425\n",
      "\n",
      " NaN filled with Backgroundvalues:\n",
      "\n",
      "        one       two     three\n",
      "a -0.140772  0.149297  0.828356\n",
      "b  1.194370  0.230615  0.618077\n",
      "c -0.333687  0.267886  0.742074\n",
      "d -0.333687  0.267886  0.742074\n",
      "e  0.872859  0.271781 -1.562425\n",
      "f  0.872859  0.271781 -1.562425\n"
     ]
    }
   ],
   "source": [
    "df=pd.DataFrame(np.random.randn(4,3),index=[\"a\",\"b\",\"d\",\"f\"],columns=[\"one\",\"two\",\"three\"])\n",
    "df=df.reindex([\"a\",\"b\",\"c\",\"d\",\"e\",\"f\"])\n",
    "print(\"Original dataframe with NaN\\n\",df)\n",
    "print(\"\\n NaN filled with Backgroundvalues:\\n\")\n",
    "print(df.fillna(method='bfill'))"
   ]
  },
  {
   "cell_type": "code",
   "execution_count": 22,
   "id": "1fe7745a",
   "metadata": {},
   "outputs": [
    {
     "name": "stdout",
     "output_type": "stream",
     "text": [
      "Original dataframe with NaN\n",
      "         one       two     three\n",
      "a -0.080529 -1.148785 -0.936331\n",
      "b -1.384840 -0.161099 -0.736174\n",
      "c       NaN       NaN       NaN\n",
      "d  0.590479  0.248104 -1.160003\n",
      "e       NaN       NaN       NaN\n",
      "f -0.539112 -0.084300  1.066804\n",
      "\n",
      " NaN filled with forward groundvalues:\n",
      "\n",
      "        one       two     three\n",
      "a -0.080529 -1.148785 -0.936331\n",
      "b -1.384840 -0.161099 -0.736174\n",
      "c -1.384840 -0.161099 -0.736174\n",
      "d  0.590479  0.248104 -1.160003\n",
      "e  0.590479  0.248104 -1.160003\n",
      "f -0.539112 -0.084300  1.066804\n"
     ]
    }
   ],
   "source": [
    "df=pd.DataFrame(np.random.randn(4,3),index=[\"a\",\"b\",\"d\",\"f\"],columns=[\"one\",\"two\",\"three\"])\n",
    "df=df.reindex([\"a\",\"b\",\"c\",\"d\",\"e\",\"f\"])\n",
    "print(\"Original dataframe with NaN\\n\",df)\n",
    "print(\"\\n NaN filled with forward groundvalues:\\n\")\n",
    "print(df.fillna(method='ffill'))"
   ]
  },
  {
   "cell_type": "code",
   "execution_count": 24,
   "id": "45ce5694",
   "metadata": {},
   "outputs": [
    {
     "name": "stdout",
     "output_type": "stream",
     "text": [
      "Original Dataframe:\n",
      "    one  two\n",
      "0   10   60\n",
      "1   20   70\n",
      "2   30   80\n",
      "3   40    0\n",
      "4   50   10\n",
      "\n",
      " Dataframe with values:\n",
      "\n",
      "   one  two\n",
      "0    5   60\n",
      "1   20   70\n",
      "2   30   40\n",
      "3   40    0\n",
      "4   50    5\n"
     ]
    }
   ],
   "source": [
    "\n",
    "df=pd.DataFrame({'one':[10,20,30,40,50],\"two\":[60,70,80,0,10]})\n",
    "print(\"Original Dataframe:\\n\",df)\n",
    "print(\"\\n Dataframe with values:\\n\")\n",
    "print(df.replace({10:5,80:40}))"
   ]
  },
  {
   "cell_type": "code",
   "execution_count": null,
   "id": "35e41af9",
   "metadata": {},
   "outputs": [],
   "source": []
  }
 ],
 "metadata": {
  "kernelspec": {
   "display_name": "Python 3 (ipykernel)",
   "language": "python",
   "name": "python3"
  },
  "language_info": {
   "codemirror_mode": {
    "name": "ipython",
    "version": 3
   },
   "file_extension": ".py",
   "mimetype": "text/x-python",
   "name": "python",
   "nbconvert_exporter": "python",
   "pygments_lexer": "ipython3",
   "version": "3.11.5"
  }
 },
 "nbformat": 4,
 "nbformat_minor": 5
}
