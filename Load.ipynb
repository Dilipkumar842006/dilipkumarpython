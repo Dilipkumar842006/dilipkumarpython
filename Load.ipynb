{
 "cells": [
  {
   "cell_type": "code",
   "execution_count": 3,
   "id": "0fffe8f7",
   "metadata": {},
   "outputs": [
    {
     "name": "stdout",
     "output_type": "stream",
     "text": [
      "    s.no       first name gender login time  salary  bonus(%) team \n",
      "0      1     mohammed ali   male      10:24   12000         8   csk\n",
      "1      2            tyson   male       5:25   15000        10   csk\n",
      "2      3           cornor   male       5:45   19000        13   kkr\n",
      "3      4             alex   male       6:00   12000        17   kkr\n",
      "4      5              jon   male      11:11   12500        12   rcb\n",
      "..   ...              ...    ...        ...     ...       ...   ...\n",
      "95    96    david fincher   male      12:30   34500        17    mi\n",
      "96    97      guy ritchie   male      12:45   24500        12   rcb\n",
      "97    98    roger deakins   male       5:00   91000        11    gt\n",
      "98    99  stanley kubrick   male       5:05   57300         8    dc\n",
      "99   100            denis   male       6:10   73060         9   srh\n",
      "\n",
      "[100 rows x 7 columns]\n"
     ]
    }
   ],
   "source": [
    "import pandas as pd\n",
    "d=pd.read_csv(\"/Users/student/Downloads/dataset510.csv\")#in this we used location \n",
    "print(d)"
   ]
  },
  {
   "cell_type": "code",
   "execution_count": 6,
   "id": "d353ed06",
   "metadata": {},
   "outputs": [
    {
     "name": "stdout",
     "output_type": "stream",
     "text": [
      "column: Index(['s.no', 'first name', 'gender', 'login time', 'salary', 'bonus(%)',\n",
      "       'team '],\n",
      "      dtype='object')\n",
      "(100, 7)\n"
     ]
    }
   ],
   "source": [
    "import pandas as pd\n",
    "df=pd.DataFrame(d)\n",
    "print(\"column:\",df.columns)\n",
    "print(df.shape)"
   ]
  },
  {
   "cell_type": "code",
   "execution_count": 13,
   "id": "d4c0d353",
   "metadata": {},
   "outputs": [
    {
     "name": "stdout",
     "output_type": "stream",
     "text": [
      "            name\n",
      " 0        mohammed ali\n",
      "1               tyson\n",
      "2              cornor\n",
      "3                alex\n",
      "4                 jon\n",
      "           ...       \n",
      "95      david fincher\n",
      "96        guy ritchie\n",
      "97      roger deakins\n",
      "98    stanley kubrick\n",
      "99              denis\n",
      "Name: first name, Length: 100, dtype: object\n"
     ]
    }
   ],
   "source": [
    "import pandas as pd\n",
    "d=pd.read_csv(\"dataset510.csv\")#in this we uploaded the file to jupyter and just used the file name instead of location\n",
    "print(\"            name\\n\",df[\"first name\"])"
   ]
  },
  {
   "cell_type": "code",
   "execution_count": 14,
   "id": "6f225932",
   "metadata": {},
   "outputs": [
    {
     "name": "stdout",
     "output_type": "stream",
     "text": [
      "    s.no       first name gender login time  salary  bonus(%) team \n",
      "8      9       maarimuthu   male       5:05   57300         8    dc\n",
      "18    19          krishna   male       5:05   57300         8    dc\n",
      "28    29             vsix   male       5:05   57300         8    dc\n",
      "38    39            nakai   male       5:05   57300         8    dc\n",
      "48    49            asics   male       5:05   57300         8    dc\n",
      "58    59           casey    male       5:05   57300         8    dc\n",
      "68    69           hardik   male       5:05   57300         8    dc\n",
      "78    79      carbeurator   male       5:05   57300         8    dc\n",
      "88    89            supra   male       5:05   57300         8    dc\n",
      "98    99  stanley kubrick   male       5:05   57300         8    dc\n"
     ]
    }
   ],
   "source": [
    "print(d.loc[d['salary']==57300])"
   ]
  },
  {
   "cell_type": "code",
   "execution_count": 15,
   "id": "05bc5a1c",
   "metadata": {},
   "outputs": [
    {
     "name": "stdout",
     "output_type": "stream",
     "text": [
      "0      240.0\n",
      "1      300.0\n",
      "2      380.0\n",
      "3      240.0\n",
      "4      250.0\n",
      "       ...  \n",
      "95     690.0\n",
      "96     490.0\n",
      "97    1820.0\n",
      "98    1146.0\n",
      "99    1461.2\n",
      "Name: salary, Length: 100, dtype: float64\n"
     ]
    }
   ],
   "source": [
    "df=d['salary']/50\n",
    "print(df)"
   ]
  },
  {
   "cell_type": "code",
   "execution_count": null,
   "id": "088407df",
   "metadata": {},
   "outputs": [],
   "source": []
  }
 ],
 "metadata": {
  "kernelspec": {
   "display_name": "Python 3 (ipykernel)",
   "language": "python",
   "name": "python3"
  },
  "language_info": {
   "codemirror_mode": {
    "name": "ipython",
    "version": 3
   },
   "file_extension": ".py",
   "mimetype": "text/x-python",
   "name": "python",
   "nbconvert_exporter": "python",
   "pygments_lexer": "ipython3",
   "version": "3.9.7"
  }
 },
 "nbformat": 4,
 "nbformat_minor": 5
}
