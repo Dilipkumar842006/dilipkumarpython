{
 "cells": [
  {
   "cell_type": "code",
   "execution_count": 2,
   "id": "6a0d072d",
   "metadata": {},
   "outputs": [
    {
     "name": "stdout",
     "output_type": "stream",
     "text": [
      "0    d\n",
      "1    h\n",
      "2    o\n",
      "3    n\n",
      "4    i\n",
      "dtype: object\n"
     ]
    }
   ],
   "source": [
    "import pandas as pd\n",
    "import numpy as np\n",
    "arr=np.array(['d','h','o','n','i'])\n",
    "a=pd.Series(arr)\n",
    "print(a)"
   ]
  },
  {
   "cell_type": "code",
   "execution_count": 5,
   "id": "1cab5ad7",
   "metadata": {},
   "outputs": [
    {
     "name": "stdout",
     "output_type": "stream",
     "text": [
      "a    0\n",
      "y    1\n",
      "2    2\n",
      "k    3\n",
      "e    4\n",
      "dtype: int64\n"
     ]
    }
   ],
   "source": [
    "#pandas with dictionary\n",
    "import pandas as pd\n",
    "import numpy as np\n",
    "arr={'a':0,'y':1,'2':2,'k':3,'e':4}\n",
    "a=pd.Series(arr)\n",
    "print(a)"
   ]
  },
  {
   "cell_type": "code",
   "execution_count": 7,
   "id": "f31583f0",
   "metadata": {},
   "outputs": [
    {
     "name": "stdout",
     "output_type": "stream",
     "text": [
      "0    4\n",
      "1    4\n",
      "2    4\n",
      "3    4\n",
      "dtype: int64\n"
     ]
    }
   ],
   "source": [
    "import pandas as pd\n",
    "import numpy as np\n",
    "\n",
    "scalar=pd.Series(4,index=[0,1,2,3])\n",
    "print(scalar)"
   ]
  },
  {
   "cell_type": "code",
   "execution_count": 12,
   "id": "daa0feed",
   "metadata": {},
   "outputs": [
    {
     "name": "stdout",
     "output_type": "stream",
     "text": [
      "\n",
      " series \n",
      " 0    d\n",
      "1    h\n",
      "2    o\n",
      "3    n\n",
      "4    i\n",
      "dtype: object\n",
      "\n",
      " index \n",
      " RangeIndex(start=0, stop=5, step=1)\n",
      "\n",
      " values \n",
      " ['d' 'h' 'o' 'n' 'i']\n",
      "\n",
      " shape \n",
      " (5,)\n",
      "\n",
      " Dimension \n",
      " 1\n",
      "\n",
      " size 5\n"
     ]
    }
   ],
   "source": [
    "import pandas as pd\n",
    "import numpy as np\n",
    "arr=np.array(['d','h','o','n','i'])\n",
    "a=pd.Series(arr)\n",
    "print(\"\\n series \\n\",a)\n",
    "print(\"\\n index \\n\",a.index)\n",
    "print('\\n values \\n',a.values)\n",
    "print('\\n shape \\n',a.shape)\n",
    "print(\"\\n Dimension \\n\",a.ndim)\n",
    "print(\"\\n size\",a.size)"
   ]
  },
  {
   "cell_type": "code",
   "execution_count": null,
   "id": "bec4209d",
   "metadata": {},
   "outputs": [],
   "source": []
  }
 ],
 "metadata": {
  "kernelspec": {
   "display_name": "Python 3 (ipykernel)",
   "language": "python",
   "name": "python3"
  },
  "language_info": {
   "codemirror_mode": {
    "name": "ipython",
    "version": 3
   },
   "file_extension": ".py",
   "mimetype": "text/x-python",
   "name": "python",
   "nbconvert_exporter": "python",
   "pygments_lexer": "ipython3",
   "version": "3.9.7"
  }
 },
 "nbformat": 4,
 "nbformat_minor": 5
}
