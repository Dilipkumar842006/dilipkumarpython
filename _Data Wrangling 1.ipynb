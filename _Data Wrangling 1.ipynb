{
 "cells": [
  {
   "cell_type": "code",
   "execution_count": 1,
   "id": "fa4f14ce",
   "metadata": {},
   "outputs": [],
   "source": [
    "import pandas as pd\n",
    "d1={\n",
    "    \"name\":['Sai','Deepak','tvk'],\n",
    "    \"age\":[20,21,22]\n",
    "    \n",
    "}\n",
    "d2={\n",
    "    \"qualified\":[True,True,False]}"
   ]
  },
  {
   "cell_type": "code",
   "execution_count": null,
   "id": "a51e37d1",
   "metadata": {},
   "outputs": [],
   "source": []
  },
  {
   "cell_type": "code",
   "execution_count": null,
   "id": "d4b8cb5c",
   "metadata": {},
   "outputs": [],
   "source": []
  },
  {
   "cell_type": "code",
   "execution_count": null,
   "id": "1cd6e626",
   "metadata": {},
   "outputs": [],
   "source": []
  },
  {
   "cell_type": "code",
   "execution_count": null,
   "id": "1568ca13",
   "metadata": {},
   "outputs": [],
   "source": []
  },
  {
   "cell_type": "code",
   "execution_count": null,
   "id": "7fbbb1e4",
   "metadata": {},
   "outputs": [],
   "source": []
  },
  {
   "cell_type": "code",
   "execution_count": null,
   "id": "f83441c0",
   "metadata": {},
   "outputs": [],
   "source": []
  },
  {
   "cell_type": "code",
   "execution_count": 2,
   "id": "994a326f",
   "metadata": {},
   "outputs": [
    {
     "name": "stdout",
     "output_type": "stream",
     "text": [
      "     name  age\n",
      "0     Sai   20\n",
      "1  Deepak   21\n",
      "2     tvk   22\n",
      "   qualified\n",
      "0       True\n",
      "1       True\n",
      "2      False\n",
      "     name  age  qualified\n",
      "0     Sai   20       True\n",
      "1  Deepak   21       True\n",
      "2     tvk   22      False\n"
     ]
    }
   ],
   "source": [
    "df1=pd.DataFrame(d1)#join function\n",
    "print(df1)\n",
    "df2=pd.DataFrame(d2)\n",
    "print(df2)\n",
    "newdf=df1.join(df2)\n",
    "print(newdf)"
   ]
  },
  {
   "cell_type": "code",
   "execution_count": 2,
   "id": "d75f94bb",
   "metadata": {},
   "outputs": [
    {
     "name": "stdout",
     "output_type": "stream",
     "text": [
      "     name  age\n",
      "0     sai   20\n",
      "1  deepak   21\n",
      "2     csk   22\n",
      "      name  age\n",
      "0  sundeep   20\n",
      "1    dilak   21\n",
      "2     smps   22\n",
      "    name_x  age  name_y\n",
      "0  sundeep   20     sai\n",
      "1    dilak   21  deepak\n",
      "2     smps   22     csk\n",
      "   name_x  age   name_y\n",
      "0     sai   20  sundeep\n",
      "1  deepak   21    dilak\n",
      "2     csk   22     smps\n"
     ]
    }
   ],
   "source": [
    "#merge\n",
    "import pandas as pd\n",
    "d1={\"name\":[\"sai\",\"deepak\",\"csk\"],\"age\":[20,21,22]}\n",
    "d2={\"name\":[\"sundeep\",\"dilak\",\"smps\"],\"age\":[20,21,22]}\n",
    "df1=pd.DataFrame(d1)\n",
    "print(df1)\n",
    "df2=pd.DataFrame(d2)\n",
    "print(df2)\n",
    "newdf1=(df2.merge(df1,on=\"age\"))\n",
    "newdf2=(df1.merge(df2,on=\"age\"))\n",
    "print(newdf1)\n",
    "print(newdf2)"
   ]
  },
  {
   "cell_type": "code",
   "execution_count": 7,
   "id": "c0b5858e",
   "metadata": {},
   "outputs": [
    {
     "name": "stdout",
     "output_type": "stream",
     "text": [
      "  team  points  assists  rebounds\n",
      "0    A      90       12        56\n",
      "1    B      56       34        43\n",
      "2    C      75       23        44\n",
      "3    D      88       44        12\n",
      "   team  variable  value\n",
      "0     A    points     90\n",
      "1     B    points     56\n",
      "2     C    points     75\n",
      "3     D    points     88\n",
      "4     A   assists     12\n",
      "5     B   assists     34\n",
      "6     C   assists     23\n",
      "7     D   assists     44\n",
      "8     A  rebounds     56\n",
      "9     B  rebounds     43\n",
      "10    C  rebounds     44\n",
      "11    D  rebounds     12\n"
     ]
    }
   ],
   "source": [
    "df=pd.DataFrame({\"team\":['A','B','C','D'],\"points\":[90,56,75,88],'assists':[12,34,23,44],'rebounds':[56,43,44,12]})\n",
    "print(df)\n",
    "df=pd.melt(df,id_vars='team',value_vars=['points','assists','rebounds'])\n",
    "print(df)"
   ]
  },
  {
   "cell_type": "code",
   "execution_count": null,
   "id": "33c6a728",
   "metadata": {},
   "outputs": [],
   "source": []
  }
 ],
 "metadata": {
  "kernelspec": {
   "display_name": "Python 3 (ipykernel)",
   "language": "python",
   "name": "python3"
  },
  "language_info": {
   "codemirror_mode": {
    "name": "ipython",
    "version": 3
   },
   "file_extension": ".py",
   "mimetype": "text/x-python",
   "name": "python",
   "nbconvert_exporter": "python",
   "pygments_lexer": "ipython3",
   "version": "3.11.5"
  }
 },
 "nbformat": 4,
 "nbformat_minor": 5
}
