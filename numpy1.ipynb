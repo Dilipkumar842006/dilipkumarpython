{
 "cells": [
  {
   "cell_type": "code",
   "execution_count": 1,
   "id": "0d13a8c1",
   "metadata": {},
   "outputs": [
    {
     "name": "stdout",
     "output_type": "stream",
     "text": [
      "one dimensional\n"
     ]
    }
   ],
   "source": [
    "import numpy as np\n",
    "a=np.array([10,20,30])\n",
    "print(\"one dimensional\")"
   ]
  },
  {
   "cell_type": "code",
   "execution_count": 2,
   "id": "06068459",
   "metadata": {},
   "outputs": [
    {
     "name": "stdout",
     "output_type": "stream",
     "text": [
      "Two Dimensional array: [[1 2 3 4]\n",
      " [5 6 7 8]]\n"
     ]
    }
   ],
   "source": [
    "import numpy as np\n",
    "a=np.array([[1,2,3,4],[5,6,7,8]])\n",
    "print(\"Two Dimensional array:\",a)\n"
   ]
  },
  {
   "cell_type": "code",
   "execution_count": 3,
   "id": "2683b17e",
   "metadata": {},
   "outputs": [
    {
     "name": "stdout",
     "output_type": "stream",
     "text": [
      "Three Dimensional array:\n",
      " [[[ 1  2  3]\n",
      "  [ 4  5  6]\n",
      "  [ 7  8  9]]\n",
      "\n",
      " [[10 11 12]\n",
      "  [13 14 15]\n",
      "  [16 17 18]]]\n"
     ]
    }
   ],
   "source": [
    "import numpy as np\n",
    "a=np.array([[[1,2,3],[4,5,6],[7,8,9]],[[10,11,12],[13,14,15],[16,17,18]]])\n",
    "print(\"Three Dimensional array:\\n\",a)"
   ]
  },
  {
   "cell_type": "code",
   "execution_count": 4,
   "id": "edfdf934",
   "metadata": {},
   "outputs": [
    {
     "name": "stdout",
     "output_type": "stream",
     "text": [
      "One Dimensional array:\n",
      " [[0. 0. 0. 0. 0.]\n",
      " [0. 0. 0. 0. 0.]\n",
      " [0. 0. 0. 0. 0.]]\n"
     ]
    }
   ],
   "source": [
    "import numpy as np\n",
    "a=np.zeros((3,5))\n",
    "print(\"One Dimensional array:\\n\",a)"
   ]
  },
  {
   "cell_type": "code",
   "execution_count": 5,
   "id": "87d00189",
   "metadata": {},
   "outputs": [
    {
     "name": "stdout",
     "output_type": "stream",
     "text": [
      "Random Value:\n",
      " [[0.7822254  0.26126742]\n",
      " [0.61267071 0.57944967]]\n"
     ]
    }
   ],
   "source": [
    "import numpy as np\n",
    "a=np.random.random((2,2))\n",
    "print(\"Random Value:\\n\",a)"
   ]
  },
  {
   "cell_type": "code",
   "execution_count": 6,
   "id": "d60a4056",
   "metadata": {},
   "outputs": [
    {
     "name": "stdout",
     "output_type": "stream",
     "text": [
      "Sequence array:\n",
      " [ 0  5 10 15 20 25 30 35 40 45 50 55]\n"
     ]
    }
   ],
   "source": [
    "import numpy as np\n",
    "a=np.arange(0,60,5)\n",
    "print(\"Sequence array:\\n\",a)"
   ]
  },
  {
   "cell_type": "code",
   "execution_count": 7,
   "id": "ff4e53b2",
   "metadata": {},
   "outputs": [
    {
     "name": "stdout",
     "output_type": "stream",
     "text": [
      "Original array:\n",
      " [[ 1  2  3  4]\n",
      " [ 5  6  7  8]\n",
      " [ 9 10 11 12]]\n",
      "\n",
      "Reshaped array:\n",
      " [[ 1  2  3]\n",
      " [ 4  5  6]\n",
      " [ 7  8  9]\n",
      " [10 11 12]]\n"
     ]
    }
   ],
   "source": [
    "import numpy as np\n",
    "a=np.array(([1,2,3,4],[5,6,7,8],[9,10,11,12]))\n",
    "print(\"Original array:\\n\",a)\n",
    "print(\"\\nReshaped array:\\n\",a.reshape(4,3))"
   ]
  },
  {
   "cell_type": "code",
   "execution_count": 8,
   "id": "b609b53f",
   "metadata": {},
   "outputs": [
    {
     "name": "stdout",
     "output_type": "stream",
     "text": [
      "Number of dimensions: 3\n"
     ]
    }
   ],
   "source": [
    "import numpy as np\n",
    "a=np.array([[[1,2,3],[4,5,6],[7,8,9]]])\n",
    "print(\"Number of dimensions:\",a.ndim)"
   ]
  },
  {
   "cell_type": "code",
   "execution_count": 9,
   "id": "872e04c4",
   "metadata": {},
   "outputs": [
    {
     "name": "stdout",
     "output_type": "stream",
     "text": [
      "Shape of array: (3, 4)\n"
     ]
    }
   ],
   "source": [
    "import numpy as np\n",
    "a=np.array(([1,2,3,4],[5,6,7,8],[9,10,11,12]))\n",
    "print(\"Shape of array:\",a.shape)"
   ]
  },
  {
   "cell_type": "code",
   "execution_count": 10,
   "id": "b1ba1f23",
   "metadata": {},
   "outputs": [
    {
     "name": "stdout",
     "output_type": "stream",
     "text": [
      "Array element type: int64\n"
     ]
    }
   ],
   "source": [
    "import numpy as np\n",
    "a=np.array([1,2,3,4])\n",
    "print(\"Array element type:\",a.dtype)"
   ]
  },
  {
   "cell_type": "code",
   "execution_count": 11,
   "id": "d7efb8f2",
   "metadata": {},
   "outputs": [
    {
     "name": "stdout",
     "output_type": "stream",
     "text": [
      "Size of array: 3\n"
     ]
    }
   ],
   "source": [
    "import numpy as np\n",
    "a=np.array(([1,2,3,4],[5,6,7,8],[9,10,11,12]))\n",
    "print(\"Size of array:\",len(a))"
   ]
  },
  {
   "cell_type": "code",
   "execution_count": 12,
   "id": "fffac0b5",
   "metadata": {},
   "outputs": [
    {
     "name": "stdout",
     "output_type": "stream",
     "text": [
      "[1 2 3]\n",
      "[1. 2. 3.]\n",
      "float64\n"
     ]
    }
   ],
   "source": [
    "import numpy as np\n",
    "a=np.array([1,2,3])\n",
    "b=a.astype('float64')\n",
    "print(a)\n",
    "print(b)\n",
    "print(b.dtype)"
   ]
  },
  {
   "cell_type": "code",
   "execution_count": null,
   "id": "4f63b7eb",
   "metadata": {},
   "outputs": [],
   "source": []
  }
 ],
 "metadata": {
  "kernelspec": {
   "display_name": "Python 3 (ipykernel)",
   "language": "python",
   "name": "python3"
  },
  "language_info": {
   "codemirror_mode": {
    "name": "ipython",
    "version": 3
   },
   "file_extension": ".py",
   "mimetype": "text/x-python",
   "name": "python",
   "nbconvert_exporter": "python",
   "pygments_lexer": "ipython3",
   "version": "3.9.7"
  }
 },
 "nbformat": 4,
 "nbformat_minor": 5
}
