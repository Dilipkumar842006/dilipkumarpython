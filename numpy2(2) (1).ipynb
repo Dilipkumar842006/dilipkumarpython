{
  "cells": [
    {
      "cell_type": "code",
      "execution_count": null,
      "id": "61368548",
      "metadata": {
        "id": "61368548",
        "outputId": "4ddd17bb-b039-4da4-e08c-8aa6b752816d"
      },
      "outputs": [
        {
          "name": "stdout",
          "output_type": "stream",
          "text": [
            "[[1 2 5 6]\n",
            " [3 4 7 8]]\n"
          ]
        }
      ],
      "source": [
        "import numpy as np\n",
        "arr1=np.array([[1,2],[3,4]])\n",
        "arr2=np.array([[5,6],[7,8]])\n",
        "result=np.hstack((arr1,arr2))\n",
        "print(result)"
      ]
    },
    {
      "cell_type": "code",
      "execution_count": null,
      "id": "91bde711",
      "metadata": {
        "id": "91bde711",
        "outputId": "d41dcb76-cf77-4b96-90cc-315e0922d4cb"
      },
      "outputs": [
        {
          "name": "stdout",
          "output_type": "stream",
          "text": [
            "[[1 2]\n",
            " [3 4]\n",
            " [5 6]\n",
            " [7 8]]\n"
          ]
        }
      ],
      "source": [
        "import numpy as np\n",
        "arr1=np.array([[1,2],[3,4]])\n",
        "arr2=np.array([[5,6],[7,8]])\n",
        "result=np.vstack((arr1,arr2))\n",
        "print(result)"
      ]
    },
    {
      "cell_type": "code",
      "execution_count": null,
      "id": "3af7e7cc",
      "metadata": {
        "id": "3af7e7cc",
        "outputId": "6b4be9d1-2883-4849-9db2-3478d6f5ebe6"
      },
      "outputs": [
        {
          "name": "stdout",
          "output_type": "stream",
          "text": [
            "[[[1 5]\n",
            "  [2 6]]\n",
            "\n",
            " [[3 7]\n",
            "  [4 8]]]\n"
          ]
        }
      ],
      "source": [
        "import numpy as np\n",
        "arr1=np.array([[1,2],[3,4]])\n",
        "arr2=np.array([[5,6],[7,8]])\n",
        "result=np.dstack((arr1,arr2))\n",
        "print(result)"
      ]
    },
    {
      "cell_type": "code",
      "execution_count": 6,
      "id": "d9ef505f",
      "metadata": {
        "id": "d9ef505f",
        "outputId": "12d6db9f-dba2-4bc5-a370-c36ba103b927",
        "colab": {
          "base_uri": "https://localhost:8080/"
        }
      },
      "outputs": [
        {
          "output_type": "stream",
          "name": "stdout",
          "text": [
            "[array([1, 2]), array([3, 4]), array([5, 6])]\n"
          ]
        }
      ],
      "source": [
        "import numpy as np\n",
        "arr=np.array([1,2,3,4,5,6])\n",
        "result=np.split(arr,3)\n",
        "print(result)"
      ]
    },
    {
      "cell_type": "code",
      "execution_count": 5,
      "id": "dfb3389c",
      "metadata": {
        "id": "dfb3389c",
        "outputId": "4fdc3c52-c108-406b-e3e6-5253c1c28118",
        "colab": {
          "base_uri": "https://localhost:8080/"
        }
      },
      "outputs": [
        {
          "output_type": "stream",
          "name": "stdout",
          "text": [
            "[1 3 5 7 9]\n",
            "[1 4 7]\n",
            "[1 5 9]\n"
          ]
        }
      ],
      "source": [
        "import numpy as np\n",
        "a=np.array([1,2,3,4,5,6,7,8,9])\n",
        "print(a[::2]) #slicing with a step of 2\n",
        "print(a[::3]) #slicing with a step of 3\n",
        "print(a[::4]) #slicing with a step of 4"
      ]
    },
    {
      "cell_type": "code",
      "source": [
        "import numpy as np\n",
        "a=np.array([1,2,3,4,5,6,7,8,9])\n",
        "print(a[2:6])"
      ],
      "metadata": {
        "id": "Rb41-h4hc28M",
        "outputId": "cbd52977-515d-4ff1-e3c1-86e739423e2f",
        "colab": {
          "base_uri": "https://localhost:8080/"
        }
      },
      "id": "Rb41-h4hc28M",
      "execution_count": 4,
      "outputs": [
        {
          "output_type": "stream",
          "name": "stdout",
          "text": [
            "[3 4 5 6]\n"
          ]
        }
      ]
    },
    {
      "cell_type": "code",
      "source": [
        "import numpy as np\n",
        "a=np.array([1,2,3,4,5,6,7,8,9])\n",
        "print(a[::-1]) #reversing the array"
      ],
      "metadata": {
        "id": "pG7JvlBvc9RJ",
        "outputId": "cf93de39-6345-4190-f960-74314ae4d02a",
        "colab": {
          "base_uri": "https://localhost:8080/"
        }
      },
      "id": "pG7JvlBvc9RJ",
      "execution_count": 3,
      "outputs": [
        {
          "output_type": "stream",
          "name": "stdout",
          "text": [
            "[9 8 7 6 5 4 3 2 1]\n"
          ]
        }
      ]
    },
    {
      "cell_type": "code",
      "source": [
        "#Slicing multi-dimensional array\n",
        "import numpy as np\n",
        "a=np.array(([1,2,3],[4,5,6,],[7,8,9]))\n",
        "print(a[0:2,1:3])"
      ],
      "metadata": {
        "id": "a_vpyU9RdERg",
        "outputId": "e5ed100b-e6d9-4b4b-bfdc-08c07f6df6bc",
        "colab": {
          "base_uri": "https://localhost:8080/"
        }
      },
      "id": "a_vpyU9RdERg",
      "execution_count": 2,
      "outputs": [
        {
          "output_type": "stream",
          "name": "stdout",
          "text": [
            "[[2 3]\n",
            " [5 6]]\n"
          ]
        }
      ]
    },
    {
      "cell_type": "code",
      "source": [
        "import numpy as np\n",
        "a=np.array(([1,2,3],[4,5,6,],[7,8,9]))\n",
        "print(a[:2,:1])"
      ],
      "metadata": {
        "id": "F1TSWK-WdQnU",
        "outputId": "0cbc1b7a-c309-4b01-c9e6-a84b2c67a1aa",
        "colab": {
          "base_uri": "https://localhost:8080/"
        }
      },
      "id": "F1TSWK-WdQnU",
      "execution_count": 1,
      "outputs": [
        {
          "output_type": "stream",
          "name": "stdout",
          "text": [
            "[[1]\n",
            " [4]]\n"
          ]
        }
      ]
    },
    {
      "cell_type": "code",
      "source": [
        "import numpy as np\n",
        "a=np.array(([1,2,3],[4,5,6,],[7,8,9]))\n",
        "print(a[:,0])\n",
        "print(a[0,:])\n",
        "print(a[0:3:2])"
      ],
      "metadata": {
        "id": "4MpzIhfmdfq0",
        "outputId": "67345e14-14ae-4b30-bb13-310256e1b51a",
        "colab": {
          "base_uri": "https://localhost:8080/"
        }
      },
      "id": "4MpzIhfmdfq0",
      "execution_count": 7,
      "outputs": [
        {
          "output_type": "stream",
          "name": "stdout",
          "text": [
            "[1 4 7]\n",
            "[1 2 3]\n",
            "[[1 2 3]\n",
            " [7 8 9]]\n"
          ]
        }
      ]
    },
    {
      "cell_type": "code",
      "source": [
        "#Array indexing\n",
        "#1D array\n",
        "#import numpy as np\n",
        "import array\n",
        "a=array.array('i',[10,20,30,40,50])\n",
        "print(a[0])\n",
        "print(a[3])"
      ],
      "metadata": {
        "id": "YrigT-X_dhL4",
        "outputId": "5653924d-f0a8-4fa6-a97e-b474189cfe67",
        "colab": {
          "base_uri": "https://localhost:8080/"
        }
      },
      "id": "YrigT-X_dhL4",
      "execution_count": 8,
      "outputs": [
        {
          "output_type": "stream",
          "name": "stdout",
          "text": [
            "10\n",
            "40\n"
          ]
        }
      ]
    },
    {
      "cell_type": "code",
      "source": [
        "#2D array\n",
        "import numpy as np\n",
        "a=np.array(([1,2,3],[4,5,6,],[7,8,9]))\n",
        "print(a[0,0])\n",
        "print(a[2,1])"
      ],
      "metadata": {
        "id": "BbcWvwq8dx1g",
        "outputId": "3c29b090-c6b9-46c8-b8de-84f10951496a",
        "colab": {
          "base_uri": "https://localhost:8080/"
        }
      },
      "id": "BbcWvwq8dx1g",
      "execution_count": 9,
      "outputs": [
        {
          "output_type": "stream",
          "name": "stdout",
          "text": [
            "1\n",
            "8\n"
          ]
        }
      ]
    },
    {
      "cell_type": "code",
      "source": [
        "import numpy as np\n",
        "a=np.array([10,20,30,40,50,60])\n",
        "print(a[1])\n",
        "print(a[-1])\n",
        "print(a[1:4])"
      ],
      "metadata": {
        "id": "ycqNt_Fod95b",
        "outputId": "9413d533-cada-42b8-b6f4-065e752830b5",
        "colab": {
          "base_uri": "https://localhost:8080/"
        }
      },
      "id": "ycqNt_Fod95b",
      "execution_count": 10,
      "outputs": [
        {
          "output_type": "stream",
          "name": "stdout",
          "text": [
            "20\n",
            "60\n",
            "[20 30 40]\n"
          ]
        }
      ]
    },
    {
      "cell_type": "code",
      "source": [
        "import numpy as np\n",
        "a=np.array(([1,2,3],[4,5,6,],[7,8,9]))\n",
        "print(a[(0,1)])"
      ],
      "metadata": {
        "id": "VIibul1NeB2e",
        "outputId": "51606e7d-601c-4e18-94c0-afefd26768a3",
        "colab": {
          "base_uri": "https://localhost:8080/"
        }
      },
      "id": "VIibul1NeB2e",
      "execution_count": 12,
      "outputs": [
        {
          "output_type": "stream",
          "name": "stdout",
          "text": [
            "2\n"
          ]
        }
      ]
    },
    {
      "cell_type": "code",
      "source": [
        "#Boolean indexing\n",
        "import numpy as np\n",
        "a=np.array([10,20,30,40,50])\n",
        "print(a[a>25])"
      ],
      "metadata": {
        "id": "KIoc4ykzeKkY"
      },
      "id": "KIoc4ykzeKkY",
      "execution_count": null,
      "outputs": []
    },
    {
      "cell_type": "code",
      "source": [
        "#Fancy indexing\n",
        "import numpy as np\n",
        "a=np.array([10,20,30,40,50])\n",
        "print(a[[1,3]])"
      ],
      "metadata": {
        "id": "YkC1lc9geM5h",
        "outputId": "819ea5b2-d25c-4abf-ada4-a8b77d5cacac",
        "colab": {
          "base_uri": "https://localhost:8080/"
        }
      },
      "id": "YkC1lc9geM5h",
      "execution_count": 11,
      "outputs": [
        {
          "output_type": "stream",
          "name": "stdout",
          "text": [
            "[20 40]\n"
          ]
        }
      ]
    }
  ],
  "metadata": {
    "kernelspec": {
      "display_name": "Python 3 (ipykernel)",
      "language": "python",
      "name": "python3"
    },
    "language_info": {
      "codemirror_mode": {
        "name": "ipython",
        "version": 3
      },
      "file_extension": ".py",
      "mimetype": "text/x-python",
      "name": "python",
      "nbconvert_exporter": "python",
      "pygments_lexer": "ipython3",
      "version": "3.9.7"
    },
    "colab": {
      "provenance": []
    }
  },
  "nbformat": 4,
  "nbformat_minor": 5
}