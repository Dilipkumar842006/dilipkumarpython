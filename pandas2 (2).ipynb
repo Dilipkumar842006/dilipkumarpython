{
 "cells": [
  {
   "cell_type": "code",
   "execution_count": 1,
   "id": "dfe8adf2",
   "metadata": {},
   "outputs": [
    {
     "name": "stdout",
     "output_type": "stream",
     "text": [
      "\n",
      " Original Dataframe:\n",
      "    S  R\n",
      "0  3  9\n",
      "1  3  9\n",
      "2  3  9\n",
      "3  3  9\n",
      "\n",
      " Square root:\n",
      "           S    R\n",
      "0  1.732051  3.0\n",
      "1  1.732051  3.0\n",
      "2  1.732051  3.0\n",
      "3  1.732051  3.0\n",
      "\n",
      " Sum of each column:\n",
      " S    12\n",
      "R    36\n",
      "dtype: int64\n",
      "\n",
      " Sum of each rows:\n",
      " 0    12\n",
      "1    12\n",
      "2    12\n",
      "3    12\n",
      "dtype: int64\n"
     ]
    }
   ],
   "source": [
    "import pandas as pd\n",
    "import numpy as np\n",
    "info=pd.DataFrame([[3,9]]*4,columns=['S','R'])\n",
    "print(\"\\n Original Dataframe:\\n\",info)\n",
    "print(\"\\n Square root:\\n\",info.apply(np.sqrt))\n",
    "#for axis 1 it sums column for axis1=> rows\n",
    "print(\"\\n Sum of each column:\\n\",info.apply(np.sum,axis=0))\n",
    "print(\"\\n Sum of each rows:\\n\",info.apply(np.sum,axis=1))"
   ]
  },
  {
   "cell_type": "code",
   "execution_count": 2,
   "id": "c25d8fd4",
   "metadata": {},
   "outputs": [
    {
     "name": "stdout",
     "output_type": "stream",
     "text": [
      "   X  Y  Z\n",
      "0  2  4  6\n",
      "1  1  3  5\n",
      "2  5  8  7\n",
      "     X  Y  Z\n",
      "min  1  3  5\n",
      "max  5  8  7\n"
     ]
    }
   ],
   "source": [
    "import pandas as pd\n",
    "import numpy as np\n",
    "info=pd.DataFrame(([2,4,6],[1,3,5],[5,8,7]),columns=[\"X\",\"Y\",\"Z\"])\n",
    "print(info)\n",
    "print(info.agg(['min','max']))"
   ]
  },
  {
   "cell_type": "code",
   "execution_count": 8,
   "id": "cfdc80e6",
   "metadata": {},
   "outputs": [
    {
     "name": "stdout",
     "output_type": "stream",
     "text": [
      "  EmpName    ID\n",
      "0     Sai  88.0\n",
      "1  Poo,70   NaN\n",
      "\n",
      " Adding new column:\n",
      "   EmpName    ID  Age\n",
      "0     Sai  88.0   20\n",
      "1  Poo,70   NaN   18\n",
      "Adding new column:\n",
      "   EmpName    ID  Age     Sex\n",
      "0     Sai  88.0   20    Male\n",
      "1  Poo,70   NaN   18  Female\n"
     ]
    }
   ],
   "source": [
    "import pandas as pd\n",
    "import numpy as np\n",
    "ad=pd.DataFrame([['Sai',88],['Poo,70']],columns=['EmpName','ID'])\n",
    "print(ad)\n",
    "ad['Age']=[20,18]\n",
    "print(\"\\n Adding new column:\\n\",ad)\n",
    "ad['Sex']=['Male','Female']\n",
    "print(\"Adding new column:\\n\",ad)"
   ]
  },
  {
   "cell_type": "code",
   "execution_count": 12,
   "id": "ff025e6a",
   "metadata": {},
   "outputs": [
    {
     "name": "stdout",
     "output_type": "stream",
     "text": [
      "  EmpName  ID\n",
      "0     Sai  88\n",
      "1     Poo  70\n",
      "Adding a new column:\n",
      "   EmpName  ID  Age\n",
      "0     Sai  88   20\n",
      "1     Poo  70   18\n"
     ]
    }
   ],
   "source": [
    "#to add a new column\n",
    "import pandas as pd\n",
    "import numpy as np\n",
    "ad=pd.DataFrame([['Sai',88],['Poo',70]],columns=['EmpName','ID'])\n",
    "print(ad)\n",
    "a=ad.assign(Age=[20,18])\n",
    "print(\"Adding a new column:\\n\",a)"
   ]
  },
  {
   "cell_type": "code",
   "execution_count": 16,
   "id": "96549670",
   "metadata": {},
   "outputs": [
    {
     "name": "stdout",
     "output_type": "stream",
     "text": [
      "       col1      col2\n",
      "3 -1.336031  0.420412\n",
      "2  1.352784  0.562231\n",
      "0 -0.268562  0.903264\n",
      "4 -0.759175  0.833146\n",
      "1 -0.519055  0.993608\n",
      "       col1      col2\n",
      "0 -0.268562  0.903264\n",
      "1 -0.519055  0.993608\n",
      "2  1.352784  0.562231\n",
      "3 -1.336031  0.420412\n",
      "4 -0.759175  0.833146\n",
      "       col1      col2\n",
      "3 -1.336031  0.420412\n",
      "2  1.352784  0.562231\n",
      "4 -0.759175  0.833146\n",
      "0 -0.268562  0.903264\n",
      "1 -0.519055  0.993608\n"
     ]
    }
   ],
   "source": [
    "import pandas as pd\n",
    "import numpy as np\n",
    "\n",
    "info=pd.DataFrame(np.random.randn(5,2),index=[3,2,0,4,1],columns=['col1','col2'])\n",
    "print(info)\n",
    "info2=info.sort_index()\n",
    "print(info2)\n",
    "info3=info.sort_values(by='col2')\n",
    "print(info3)"
   ]
  },
  {
   "cell_type": "code",
   "execution_count": 4,
   "id": "39b39837",
   "metadata": {},
   "outputs": [
    {
     "name": "stdout",
     "output_type": "stream",
     "text": [
      "   id        Name   sub\n",
      "0   1  Rocky bhai  sub1\n",
      "1   2         Anu  sub2\n",
      "2   3        Bala  sub3\n",
      "3   4        Raya  sub4\n",
      "   id     Name   sub\n",
      "0   1   Winter  sub2\n",
      "1   2   Summer  sub4\n",
      "2   3  Monsoon  sub3\n",
      "3   4   Spring  sub5\n",
      "   id      Name_x sub_x   Name_y sub_y\n",
      "0   1  Rocky bhai  sub1   Winter  sub2\n",
      "1   2         Anu  sub2   Summer  sub4\n",
      "2   3        Bala  sub3  Monsoon  sub3\n",
      "3   4        Raya  sub4   Spring  sub5\n"
     ]
    }
   ],
   "source": [
    "import pandas as pd\n",
    "import numpy as np\n",
    "left=pd.DataFrame({'id':[1,2,3,4],'Name':['Rocky bhai','Anu','Bala','Raya'],'sub':['sub1','sub2','sub3','sub4']})\n",
    "right=pd.DataFrame({'id':[1,2,3,4],'Name':['Winter','Summer','Monsoon','Spring'],'sub':['sub2','sub4','sub3','sub5']})\n",
    "print(left)\n",
    "print(right)\n",
    "print(pd.merge(left,right,on='id'))"
   ]
  },
  {
   "cell_type": "code",
   "execution_count": null,
   "id": "be34d8bf",
   "metadata": {},
   "outputs": [],
   "source": []
  },
  {
   "cell_type": "code",
   "execution_count": null,
   "id": "3d118b26",
   "metadata": {},
   "outputs": [],
   "source": []
  },
  {
   "cell_type": "code",
   "execution_count": null,
   "id": "965ea771",
   "metadata": {},
   "outputs": [],
   "source": []
  },
  {
   "cell_type": "code",
   "execution_count": null,
   "id": "a420f931",
   "metadata": {},
   "outputs": [],
   "source": []
  },
  {
   "cell_type": "code",
   "execution_count": null,
   "id": "e5877f8f",
   "metadata": {},
   "outputs": [],
   "source": []
  },
  {
   "cell_type": "code",
   "execution_count": null,
   "id": "5487c14f",
   "metadata": {},
   "outputs": [],
   "source": []
  }
 ],
 "metadata": {
  "kernelspec": {
   "display_name": "Python 3 (ipykernel)",
   "language": "python",
   "name": "python3"
  },
  "language_info": {
   "codemirror_mode": {
    "name": "ipython",
    "version": 3
   },
   "file_extension": ".py",
   "mimetype": "text/x-python",
   "name": "python",
   "nbconvert_exporter": "python",
   "pygments_lexer": "ipython3",
   "version": "3.9.7"
  }
 },
 "nbformat": 4,
 "nbformat_minor": 5
}
