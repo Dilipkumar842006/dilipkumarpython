{
 "cells": [
  {
   "cell_type": "code",
   "execution_count": 8,
   "id": "0420bb65",
   "metadata": {},
   "outputs": [],
   "source": [
    "f=open(\"/Users/student/Desktop/230901510.txt\",\"w\")\n",
    "f.write(\"wake up \\n\")\n",
    "f.write(\"be ready \\n\")\n",
    "f.write(\"say bye bye \\n\")\n",
    "f.close()"
   ]
  },
  {
   "cell_type": "code",
   "execution_count": 11,
   "id": "73ea4b4e",
   "metadata": {},
   "outputs": [
    {
     "name": "stdout",
     "output_type": "stream",
     "text": [
      "wake up \n",
      "\n",
      "be ready \n",
      "\n",
      "say bye bye \n",
      "\n"
     ]
    }
   ],
   "source": [
    "f=open(\"/Users/student/Desktop/230901510.txt\",\"r\")\n",
    "print(f.readline())\n",
    "print(f.readline())\n",
    "print(f.readline())"
   ]
  },
  {
   "cell_type": "code",
   "execution_count": 12,
   "id": "283745f0",
   "metadata": {},
   "outputs": [],
   "source": [
    "x=open(\"/Users/student/Desktop/230901510.txt\",\"a\")\n",
    "x.write(\"wake up sid \\n\")\n",
    "x.write(\"Animal \\n\")\n",
    "x.close()"
   ]
  },
  {
   "cell_type": "code",
   "execution_count": 14,
   "id": "357ee9f1",
   "metadata": {},
   "outputs": [
    {
     "name": "stdout",
     "output_type": "stream",
     "text": [
      "wake up \n",
      "be ready \n",
      "say bye bye \n",
      "wake up sid \n",
      "Animal \n",
      "\n"
     ]
    }
   ],
   "source": [
    "y=open(\"/Users/student/Desktop/230901510.txt\",\"r\")\n",
    "print(y.read())\n",
    "y.close()"
   ]
  },
  {
   "cell_type": "code",
   "execution_count": 15,
   "id": "a1df373d",
   "metadata": {},
   "outputs": [
    {
     "name": "stdout",
     "output_type": "stream",
     "text": [
      "['wake up \\n', 'be ready \\n', 'say bye bye \\n', 'wake up sid \\n', 'Animal \\n']\n"
     ]
    }
   ],
   "source": [
    "a=open(\"/Users/student/Desktop/230901510.txt\",\"r\")\n",
    "print(a.readlines())\n",
    "a.close()"
   ]
  },
  {
   "cell_type": "code",
   "execution_count": 18,
   "id": "d085c6be",
   "metadata": {},
   "outputs": [
    {
     "name": "stdout",
     "output_type": "stream",
     "text": [
      "['wake up \\n', 'be ready \\n', 'say bye bye \\n', 'wake up sid \\n', 'Animal \\n']\n"
     ]
    }
   ],
   "source": [
    "with open(\"/Users/student/Desktop/230901510.txt\",\"r\") as m:\n",
    "    l=m.readlines()\n",
    "    print(l)"
   ]
  },
  {
   "cell_type": "code",
   "execution_count": 1,
   "id": "2b34a7dd",
   "metadata": {},
   "outputs": [
    {
     "name": "stdout",
     "output_type": "stream",
     "text": [
      "Milan\n"
     ]
    }
   ],
   "source": [
    "import json\n",
    "x='{\"Name\":\"sundar\",\"city\":\"Milan\"}'\n",
    "y=json.loads(x)\n",
    "print(y[\"city\"])"
   ]
  },
  {
   "cell_type": "code",
   "execution_count": null,
   "id": "c27c5915",
   "metadata": {},
   "outputs": [],
   "source": []
  }
 ],
 "metadata": {
  "kernelspec": {
   "display_name": "Python 3 (ipykernel)",
   "language": "python",
   "name": "python3"
  },
  "language_info": {
   "codemirror_mode": {
    "name": "ipython",
    "version": 3
   },
   "file_extension": ".py",
   "mimetype": "text/x-python",
   "name": "python",
   "nbconvert_exporter": "python",
   "pygments_lexer": "ipython3",
   "version": "3.11.5"
  }
 },
 "nbformat": 4,
 "nbformat_minor": 5
}
